{
 "cells": [
  {
   "cell_type": "code",
   "execution_count": 9,
   "metadata": {},
   "outputs": [],
   "source": [
    "from sqlalchemy.orm import sessionmaker\n",
    "from models_m2m import engine, Tevas, Vaikas\n",
    "from pprint import pprint\n",
    "\n",
    "session = sessionmaker(engine)()"
   ]
  },
  {
   "cell_type": "code",
   "execution_count": 3,
   "metadata": {},
   "outputs": [],
   "source": [
    "tevas = Tevas(vardas=\"Romas\", pavarde=\"Zymonas\")\n",
    "mama = Tevas(vardas=\"Rima\", pavarde=\"Zymoniene\")\n",
    "dukra = Vaikas(vardas=\"Justina\", pavarde=\"Zymonaite\")\n",
    "sunus = Vaikas(vardas=\"Vaidas\", pavarde=\"Zymonas\")\n",
    "anukas = Vaikas(vardas=\"Benediktas\", pavarde=\"Zymonas\")\n",
    "\n",
    "tevas.vaikai.append(dukra)\n",
    "tevas.vaikai.append(sunus)\n",
    "mama.vaikai.append(sunus)\n",
    "\n",
    "session.add(tevas)\n",
    "session.add(mama)\n",
    "session.commit()"
   ]
  },
  {
   "cell_type": "code",
   "execution_count": 6,
   "metadata": {},
   "outputs": [],
   "source": [
    "session.add(anukas)\n",
    "session.commit()"
   ]
  },
  {
   "cell_type": "code",
   "execution_count": 14,
   "metadata": {},
   "outputs": [
    {
     "name": "stdout",
     "output_type": "stream",
     "text": [
      "[(1, Romas, Zymonas), (2, Rima, Zymoniene)]\n",
      "[(1, Justina, Zymonaite), (2, Vaidas, Zymonas), (3, Benediktas, Zymonas)]\n"
     ]
    }
   ],
   "source": [
    "tevai = session.query(Tevas).all()\n",
    "pprint(tevai)\n",
    "vaikai = session.query(Vaikas).all()\n",
    "pprint(vaikai)"
   ]
  },
  {
   "cell_type": "code",
   "execution_count": 15,
   "metadata": {},
   "outputs": [
    {
     "name": "stdout",
     "output_type": "stream",
     "text": [
      "(1, Romas, Zymonas)\n",
      "- (1, Justina, Zymonaite)\n",
      "- (2, Vaidas, Zymonas)\n",
      "- (3, Benediktas, Zymonas)\n",
      "(2, Rima, Zymoniene)\n",
      "- (2, Vaidas, Zymonas)\n",
      "- (3, Benediktas, Zymonas)\n",
      "- (1, Justina, Zymonaite)\n"
     ]
    }
   ],
   "source": [
    "for tevas in tevai:\n",
    "    print(tevas)\n",
    "    for vaikas in tevas.vaikai:\n",
    "        print(\"-\", vaikas)"
   ]
  },
  {
   "cell_type": "code",
   "execution_count": 10,
   "metadata": {},
   "outputs": [],
   "source": [
    "tevas = session.query(Tevas).get(1)\n",
    "mama = session.query(Tevas).get(2)\n",
    "dukra = session.query(Vaikas).get(1)\n",
    "sunus = session.query(Vaikas).get(2)\n",
    "anukas = session.query(Vaikas).get(3)"
   ]
  },
  {
   "cell_type": "code",
   "execution_count": 12,
   "metadata": {},
   "outputs": [],
   "source": [
    "anukas.tevai.append(tevas)\n",
    "anukas.tevai.append(mama)\n",
    "dukra.tevai.append(mama)\n",
    "session.commit()"
   ]
  },
  {
   "cell_type": "code",
   "execution_count": 16,
   "metadata": {},
   "outputs": [
    {
     "name": "stdout",
     "output_type": "stream",
     "text": [
      "(1, Justina, Zymonaite)\n",
      "- (1, Romas, Zymonas)\n",
      "- (2, Rima, Zymoniene)\n",
      "(2, Vaidas, Zymonas)\n",
      "- (1, Romas, Zymonas)\n",
      "- (2, Rima, Zymoniene)\n",
      "(3, Benediktas, Zymonas)\n",
      "- (1, Romas, Zymonas)\n",
      "- (2, Rima, Zymoniene)\n"
     ]
    }
   ],
   "source": [
    "for vaikas in vaikai:\n",
    "    print(vaikas)\n",
    "    for tevas in vaikas.tevai:\n",
    "        print(\"-\", tevas)"
   ]
  }
 ],
 "metadata": {
  "kernelspec": {
   "display_name": "Python 3.10.7 ('venv': venv)",
   "language": "python",
   "name": "python3"
  },
  "language_info": {
   "codemirror_mode": {
    "name": "ipython",
    "version": 3
   },
   "file_extension": ".py",
   "mimetype": "text/x-python",
   "name": "python",
   "nbconvert_exporter": "python",
   "pygments_lexer": "ipython3",
   "version": "3.10.7"
  },
  "orig_nbformat": 4,
  "vscode": {
   "interpreter": {
    "hash": "28ae4fd3117835bd2bd5c372c68797032bf1020df96b4749ffece5c36330bdc1"
   }
  }
 },
 "nbformat": 4,
 "nbformat_minor": 2
}
