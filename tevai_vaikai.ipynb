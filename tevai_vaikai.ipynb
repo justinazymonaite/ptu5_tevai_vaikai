{
 "cells": [
  {
   "cell_type": "code",
   "execution_count": 5,
   "metadata": {},
   "outputs": [],
   "source": [
    "from sqlalchemy.orm import sessionmaker\n",
    "from models import engine, Tevas, Vaikas\n",
    "\n",
    "session = sessionmaker(engine)()"
   ]
  },
  {
   "cell_type": "code",
   "execution_count": 19,
   "metadata": {},
   "outputs": [],
   "source": [
    "naujas_tevas = Tevas(vardas=\"Kietas\", pavarde=\"Vyras\")\n",
    "naujas_vaikas = Vaikas(\n",
    "    vardas=\"Sustras\", \n",
    "    pavarde=\"Vyras\", \n",
    "    tevas=naujas_tevas,\n",
    "    mokymo_istaiga=\"CodeAcademy\",\n",
    ")\n",
    "session.add(naujas_tevas)\n",
    "session.add(naujas_vaikas)\n",
    "session.commit()"
   ]
  },
  {
   "cell_type": "code",
   "execution_count": 43,
   "metadata": {},
   "outputs": [
    {
     "name": "stdout",
     "output_type": "stream",
     "text": [
      "[(9, Gudrus, Vaikis, (7, Rimtas, Vaikis)),\n",
      " (10, Smagi, Vaikyte, (1, Kietas, Vyras)),\n",
      " (11, Sustras, Vyras, (8, Kietas, Vyras)),\n",
      " (12, Gudrus, Vaikis, (9, Rimtas, Vaikis)),\n",
      " (13, Smagi, Vaikyte, (9, Rimtas, Vaikis))]\n"
     ]
    }
   ],
   "source": [
    "from pprint import pprint\n",
    "vaikai = session.query(Vaikas).all()\n",
    "pprint(vaikai)"
   ]
  },
  {
   "cell_type": "code",
   "execution_count": 21,
   "metadata": {},
   "outputs": [
    {
     "data": {
      "text/plain": [
       "[(9, Gudrus, Vaikis, (7, Rimtas, Vaikis)), (10, Smagi, Vaikyte, (1, Kietas, Vyras)), (11, Sustras, Vyras, (8, Kietas, Vyras))]"
      ]
     },
     "execution_count": 21,
     "metadata": {},
     "output_type": "execute_result"
    }
   ],
   "source": [
    "vaikai[1].tevas = session.query(Tevas).get(1)\n",
    "session.commit()\n",
    "vaikai"
   ]
  },
  {
   "cell_type": "code",
   "execution_count": 44,
   "metadata": {},
   "outputs": [
    {
     "data": {
      "text/plain": [
       "(7, Rimtas, Vaikis)"
      ]
     },
     "execution_count": 44,
     "metadata": {},
     "output_type": "execute_result"
    }
   ],
   "source": [
    "tevas = session.query(Tevas).get(7)\n",
    "tevas"
   ]
  },
  {
   "cell_type": "code",
   "execution_count": 25,
   "metadata": {},
   "outputs": [
    {
     "data": {
      "text/plain": [
       "[(9, Gudrus, Vaikis, (7, Rimtas, Vaikis))]"
      ]
     },
     "execution_count": 25,
     "metadata": {},
     "output_type": "execute_result"
    }
   ],
   "source": [
    "tevas.vaikai"
   ]
  },
  {
   "cell_type": "code",
   "execution_count": 26,
   "metadata": {},
   "outputs": [],
   "source": [
    "sunelis = Vaikas(vardas=\"Gudrus\", pavarde=\"Vaikis\")\n",
    "dukrele = Vaikas(vardas=\"Smagi\", pavarde=\"Vaikyte\")\n",
    "tevas = Tevas(vardas=\"Rimtas\", pavarde=\"Vaikis\")\n",
    "tevas.vaikai.append(sunelis)\n",
    "tevas.vaikai.append(dukrele)\n",
    "session.add(tevas)\n",
    "session.commit()"
   ]
  },
  {
   "cell_type": "code",
   "execution_count": 27,
   "metadata": {},
   "outputs": [
    {
     "name": "stdout",
     "output_type": "stream",
     "text": [
      "tevas:  (1, Kietas, Vyras) \n",
      "vaikai: \n",
      "[(10, Smagi, Vaikyte, (1, Kietas, Vyras))]\n",
      "tevas:  (7, Rimtas, Vaikis) \n",
      "vaikai: \n",
      "[(9, Gudrus, Vaikis, (7, Rimtas, Vaikis))]\n",
      "tevas:  (8, Kietas, Vyras) \n",
      "vaikai: \n",
      "[(11, Sustras, Vyras, (8, Kietas, Vyras))]\n",
      "tevas:  (9, Rimtas, Vaikis) \n",
      "vaikai: \n",
      "[(12, Gudrus, Vaikis, (9, Rimtas, Vaikis)),\n",
      " (13, Smagi, Vaikyte, (9, Rimtas, Vaikis))]\n"
     ]
    }
   ],
   "source": [
    "tevai = session.query(Tevas).all()\n",
    "for tevas in tevai:\n",
    "    print('tevas: ', tevas, \"\\nvaikai: \")\n",
    "    pprint(tevas.vaikai)"
   ]
  },
  {
   "cell_type": "code",
   "execution_count": 28,
   "metadata": {},
   "outputs": [
    {
     "data": {
      "text/plain": [
       "'Gudrus'"
      ]
     },
     "execution_count": 28,
     "metadata": {},
     "output_type": "execute_result"
    }
   ],
   "source": [
    "tevas.vaikai[0].vardas"
   ]
  },
  {
   "cell_type": "code",
   "execution_count": 29,
   "metadata": {},
   "outputs": [
    {
     "data": {
      "text/plain": [
       "'Vaikyte'"
      ]
     },
     "execution_count": 29,
     "metadata": {},
     "output_type": "execute_result"
    }
   ],
   "source": [
    "tevas.vaikai[1].pavarde"
   ]
  },
  {
   "cell_type": "code",
   "execution_count": 30,
   "metadata": {},
   "outputs": [
    {
     "data": {
      "text/plain": [
       "[(12, Gudrus, Vaikis, (9, Rimtas, Vaikis)), (13, Gudri, Vaikyte, (9, Rimtas, Vaikis))]"
      ]
     },
     "execution_count": 30,
     "metadata": {},
     "output_type": "execute_result"
    }
   ],
   "source": [
    "tevas.vaikai[1].vardas = \"Gudri\"\n",
    "tevas.vaikai"
   ]
  },
  {
   "cell_type": "code",
   "execution_count": 31,
   "metadata": {},
   "outputs": [
    {
     "data": {
      "text/plain": [
       "(13, Gudri, Vaikyte, None)"
      ]
     },
     "execution_count": 31,
     "metadata": {},
     "output_type": "execute_result"
    }
   ],
   "source": [
    "pamestinukas = tevas.vaikai.pop()\n",
    "pamestinukas"
   ]
  },
  {
   "cell_type": "code",
   "execution_count": 32,
   "metadata": {},
   "outputs": [
    {
     "data": {
      "text/plain": [
       "[(9, Gudrus, Vaikis, (7, Rimtas, Vaikis)), (10, Smagi, Vaikyte, (1, Kietas, Vyras)), (11, Sustras, Vyras, (8, Kietas, Vyras)), (12, Gudrus, Vaikis, (9, Rimtas, Vaikis)), (13, Gudri, Vaikyte, None)]"
      ]
     },
     "execution_count": 32,
     "metadata": {},
     "output_type": "execute_result"
    }
   ],
   "source": [
    "vaikai = session.query(Vaikas).all()\n",
    "vaikai"
   ]
  },
  {
   "cell_type": "code",
   "execution_count": 34,
   "metadata": {},
   "outputs": [
    {
     "ename": "IndexError",
     "evalue": "list index out of range",
     "output_type": "error",
     "traceback": [
      "\u001b[1;31m---------------------------------------------------------------------------\u001b[0m",
      "\u001b[1;31mIndexError\u001b[0m                                Traceback (most recent call last)",
      "Cell \u001b[1;32mIn [34], line 1\u001b[0m\n\u001b[1;32m----> 1\u001b[0m tevas\u001b[39m.\u001b[39mvaikai\u001b[39m.\u001b[39mremove(vaikai[\u001b[39m9\u001b[39;49m])\n\u001b[0;32m      2\u001b[0m tevas\n",
      "\u001b[1;31mIndexError\u001b[0m: list index out of range"
     ]
    }
   ],
   "source": [
    "tevas.vaikai.remove(vaikai[9])\n",
    "tevas"
   ]
  },
  {
   "cell_type": "code",
   "execution_count": 35,
   "metadata": {},
   "outputs": [
    {
     "name": "stdout",
     "output_type": "stream",
     "text": [
      "[(12, Gudrus, Vaikis, (9, Rimtas, Vaikis))]\n"
     ]
    }
   ],
   "source": [
    "pprint(tevas.vaikai)"
   ]
  },
  {
   "cell_type": "code",
   "execution_count": 36,
   "metadata": {},
   "outputs": [],
   "source": [
    "tevas.vaikai.append(vaikai[1])\n",
    "tevas.vaikai.append(vaikai[2])"
   ]
  },
  {
   "cell_type": "code",
   "execution_count": 1,
   "metadata": {},
   "outputs": [],
   "source": [
    "from crud import update_object, delete_object"
   ]
  },
  {
   "cell_type": "code",
   "execution_count": 4,
   "metadata": {},
   "outputs": [
    {
     "ename": "NameError",
     "evalue": "name 'Vaikas' is not defined",
     "output_type": "error",
     "traceback": [
      "\u001b[1;31m---------------------------------------------------------------------------\u001b[0m",
      "\u001b[1;31mNameError\u001b[0m                                 Traceback (most recent call last)",
      "Cell \u001b[1;32mIn [4], line 1\u001b[0m\n\u001b[1;32m----> 1\u001b[0m delete_object(Vaikas, \u001b[39m12\u001b[39m)\n",
      "\u001b[1;31mNameError\u001b[0m: name 'Vaikas' is not defined"
     ]
    }
   ],
   "source": [
    "delete_object(Vaikas, 12)"
   ]
  },
  {
   "cell_type": "code",
   "execution_count": 46,
   "metadata": {},
   "outputs": [
    {
     "ename": "PendingRollbackError",
     "evalue": "This Session's transaction has been rolled back due to a previous exception during flush. To begin a new transaction with this Session, first issue Session.rollback(). Original exception was: (sqlite3.OperationalError) database is locked\n[SQL: UPDATE tevas SET vardas=? WHERE tevas.id = ?]\n[parameters: ('Rimtesnis', 7)]\n(Background on this error at: https://sqlalche.me/e/14/e3q8) (Background on this error at: https://sqlalche.me/e/14/7s2a)",
     "output_type": "error",
     "traceback": [
      "\u001b[1;31m---------------------------------------------------------------------------\u001b[0m",
      "\u001b[1;31mPendingRollbackError\u001b[0m                      Traceback (most recent call last)",
      "Cell \u001b[1;32mIn [46], line 1\u001b[0m\n\u001b[1;32m----> 1\u001b[0m rimtesnis \u001b[39m=\u001b[39m update_object(Tevas, \u001b[39m7\u001b[39;49m, vardas\u001b[39m=\u001b[39;49m\u001b[39m\"\u001b[39;49m\u001b[39mRimtesnis\u001b[39;49m\u001b[39m\"\u001b[39;49m)\n\u001b[0;32m      2\u001b[0m rimtesnis\n",
      "File \u001b[1;32mc:\\Users\\jzymo\\Documents\\python_codeacademy\\ptu5_tevai_vaikai\\crud.py:42\u001b[0m, in \u001b[0;36mupdate_object\u001b[1;34m(object_class, object_id, **kwargs)\u001b[0m\n\u001b[0;32m     41\u001b[0m \u001b[39mdef\u001b[39;00m \u001b[39mupdate_object\u001b[39m(object_class, object_id, \u001b[39m*\u001b[39m\u001b[39m*\u001b[39mkwargs):\n\u001b[1;32m---> 42\u001b[0m     obj \u001b[39m=\u001b[39m session\u001b[39m.\u001b[39;49mquery(object_class)\u001b[39m.\u001b[39;49mget(object_id)\n\u001b[0;32m     43\u001b[0m     \u001b[39mif\u001b[39;00m obj \u001b[39mand\u001b[39;00m kwargs:\n\u001b[0;32m     44\u001b[0m         \u001b[39mfor\u001b[39;00m column_name, value \u001b[39min\u001b[39;00m kwargs\u001b[39m.\u001b[39mitems():\n",
      "File \u001b[1;32m<string>:2\u001b[0m, in \u001b[0;36mget\u001b[1;34m(self, ident)\u001b[0m\n",
      "File \u001b[1;32mc:\\Users\\jzymo\\Documents\\python_codeacademy\\ptu5_tevai_vaikai\\venv\\lib\\site-packages\\sqlalchemy\\util\\deprecations.py:402\u001b[0m, in \u001b[0;36m_decorate_with_warning.<locals>.warned\u001b[1;34m(fn, *args, **kwargs)\u001b[0m\n\u001b[0;32m    400\u001b[0m \u001b[39mif\u001b[39;00m \u001b[39mnot\u001b[39;00m skip_warning:\n\u001b[0;32m    401\u001b[0m     _warn_with_version(message, version, wtype, stacklevel\u001b[39m=\u001b[39m\u001b[39m3\u001b[39m)\n\u001b[1;32m--> 402\u001b[0m \u001b[39mreturn\u001b[39;00m fn(\u001b[39m*\u001b[39margs, \u001b[39m*\u001b[39m\u001b[39m*\u001b[39mkwargs)\n",
      "File \u001b[1;32mc:\\Users\\jzymo\\Documents\\python_codeacademy\\ptu5_tevai_vaikai\\venv\\lib\\site-packages\\sqlalchemy\\orm\\query.py:947\u001b[0m, in \u001b[0;36mQuery.get\u001b[1;34m(self, ident)\u001b[0m\n\u001b[0;32m    943\u001b[0m \u001b[39mself\u001b[39m\u001b[39m.\u001b[39m_no_criterion_assertion(\u001b[39m\"\u001b[39m\u001b[39mget\u001b[39m\u001b[39m\"\u001b[39m, order_by\u001b[39m=\u001b[39m\u001b[39mFalse\u001b[39;00m, distinct\u001b[39m=\u001b[39m\u001b[39mFalse\u001b[39;00m)\n\u001b[0;32m    945\u001b[0m \u001b[39m# we still implement _get_impl() so that baked query can override\u001b[39;00m\n\u001b[0;32m    946\u001b[0m \u001b[39m# it\u001b[39;00m\n\u001b[1;32m--> 947\u001b[0m \u001b[39mreturn\u001b[39;00m \u001b[39mself\u001b[39;49m\u001b[39m.\u001b[39;49m_get_impl(ident, loading\u001b[39m.\u001b[39;49mload_on_pk_identity)\n",
      "File \u001b[1;32mc:\\Users\\jzymo\\Documents\\python_codeacademy\\ptu5_tevai_vaikai\\venv\\lib\\site-packages\\sqlalchemy\\orm\\query.py:951\u001b[0m, in \u001b[0;36mQuery._get_impl\u001b[1;34m(self, primary_key_identity, db_load_fn, identity_token)\u001b[0m\n\u001b[0;32m    949\u001b[0m \u001b[39mdef\u001b[39;00m \u001b[39m_get_impl\u001b[39m(\u001b[39mself\u001b[39m, primary_key_identity, db_load_fn, identity_token\u001b[39m=\u001b[39m\u001b[39mNone\u001b[39;00m):\n\u001b[0;32m    950\u001b[0m     mapper \u001b[39m=\u001b[39m \u001b[39mself\u001b[39m\u001b[39m.\u001b[39m_only_full_mapper_zero(\u001b[39m\"\u001b[39m\u001b[39mget\u001b[39m\u001b[39m\"\u001b[39m)\n\u001b[1;32m--> 951\u001b[0m     \u001b[39mreturn\u001b[39;00m \u001b[39mself\u001b[39;49m\u001b[39m.\u001b[39;49msession\u001b[39m.\u001b[39;49m_get_impl(\n\u001b[0;32m    952\u001b[0m         mapper,\n\u001b[0;32m    953\u001b[0m         primary_key_identity,\n\u001b[0;32m    954\u001b[0m         db_load_fn,\n\u001b[0;32m    955\u001b[0m         populate_existing\u001b[39m=\u001b[39;49m\u001b[39mself\u001b[39;49m\u001b[39m.\u001b[39;49mload_options\u001b[39m.\u001b[39;49m_populate_existing,\n\u001b[0;32m    956\u001b[0m         with_for_update\u001b[39m=\u001b[39;49m\u001b[39mself\u001b[39;49m\u001b[39m.\u001b[39;49m_for_update_arg,\n\u001b[0;32m    957\u001b[0m         options\u001b[39m=\u001b[39;49m\u001b[39mself\u001b[39;49m\u001b[39m.\u001b[39;49m_with_options,\n\u001b[0;32m    958\u001b[0m         identity_token\u001b[39m=\u001b[39;49midentity_token,\n\u001b[0;32m    959\u001b[0m         execution_options\u001b[39m=\u001b[39;49m\u001b[39mself\u001b[39;49m\u001b[39m.\u001b[39;49m_execution_options,\n\u001b[0;32m    960\u001b[0m     )\n",
      "File \u001b[1;32mc:\\Users\\jzymo\\Documents\\python_codeacademy\\ptu5_tevai_vaikai\\venv\\lib\\site-packages\\sqlalchemy\\orm\\session.py:2922\u001b[0m, in \u001b[0;36mSession._get_impl\u001b[1;34m(self, entity, primary_key_identity, db_load_fn, options, populate_existing, with_for_update, identity_token, execution_options)\u001b[0m\n\u001b[0;32m   2903\u001b[0m         util\u001b[39m.\u001b[39mraise_(\n\u001b[0;32m   2904\u001b[0m             sa_exc\u001b[39m.\u001b[39mInvalidRequestError(\n\u001b[0;32m   2905\u001b[0m                 \u001b[39m\"\u001b[39m\u001b[39mIncorrect names of values in identifier to formulate \u001b[39m\u001b[39m\"\u001b[39m\n\u001b[1;32m   (...)\u001b[0m\n\u001b[0;32m   2913\u001b[0m             replace_context\u001b[39m=\u001b[39merr,\n\u001b[0;32m   2914\u001b[0m         )\n\u001b[0;32m   2916\u001b[0m \u001b[39mif\u001b[39;00m (\n\u001b[0;32m   2917\u001b[0m     \u001b[39mnot\u001b[39;00m populate_existing\n\u001b[0;32m   2918\u001b[0m     \u001b[39mand\u001b[39;00m \u001b[39mnot\u001b[39;00m mapper\u001b[39m.\u001b[39malways_refresh\n\u001b[0;32m   2919\u001b[0m     \u001b[39mand\u001b[39;00m with_for_update \u001b[39mis\u001b[39;00m \u001b[39mNone\u001b[39;00m\n\u001b[0;32m   2920\u001b[0m ):\n\u001b[1;32m-> 2922\u001b[0m     instance \u001b[39m=\u001b[39m \u001b[39mself\u001b[39;49m\u001b[39m.\u001b[39;49m_identity_lookup(\n\u001b[0;32m   2923\u001b[0m         mapper, primary_key_identity, identity_token\u001b[39m=\u001b[39;49midentity_token\n\u001b[0;32m   2924\u001b[0m     )\n\u001b[0;32m   2926\u001b[0m     \u001b[39mif\u001b[39;00m instance \u001b[39mis\u001b[39;00m \u001b[39mnot\u001b[39;00m \u001b[39mNone\u001b[39;00m:\n\u001b[0;32m   2927\u001b[0m         \u001b[39m# reject calls for id in identity map but class\u001b[39;00m\n\u001b[0;32m   2928\u001b[0m         \u001b[39m# mismatch.\u001b[39;00m\n\u001b[0;32m   2929\u001b[0m         \u001b[39mif\u001b[39;00m \u001b[39mnot\u001b[39;00m \u001b[39missubclass\u001b[39m(instance\u001b[39m.\u001b[39m\u001b[39m__class__\u001b[39m, mapper\u001b[39m.\u001b[39mclass_):\n",
      "File \u001b[1;32mc:\\Users\\jzymo\\Documents\\python_codeacademy\\ptu5_tevai_vaikai\\venv\\lib\\site-packages\\sqlalchemy\\orm\\session.py:2215\u001b[0m, in \u001b[0;36mSession._identity_lookup\u001b[1;34m(self, mapper, primary_key_identity, identity_token, passive, lazy_loaded_from)\u001b[0m\n\u001b[0;32m   2171\u001b[0m \u001b[39m\"\"\"Locate an object in the identity map.\u001b[39;00m\n\u001b[0;32m   2172\u001b[0m \n\u001b[0;32m   2173\u001b[0m \u001b[39mGiven a primary key identity, constructs an identity key and then\u001b[39;00m\n\u001b[1;32m   (...)\u001b[0m\n\u001b[0;32m   2209\u001b[0m \n\u001b[0;32m   2210\u001b[0m \u001b[39m\"\"\"\u001b[39;00m\n\u001b[0;32m   2212\u001b[0m key \u001b[39m=\u001b[39m mapper\u001b[39m.\u001b[39midentity_key_from_primary_key(\n\u001b[0;32m   2213\u001b[0m     primary_key_identity, identity_token\u001b[39m=\u001b[39midentity_token\n\u001b[0;32m   2214\u001b[0m )\n\u001b[1;32m-> 2215\u001b[0m \u001b[39mreturn\u001b[39;00m loading\u001b[39m.\u001b[39;49mget_from_identity(\u001b[39mself\u001b[39;49m, mapper, key, passive)\n",
      "File \u001b[1;32mc:\\Users\\jzymo\\Documents\\python_codeacademy\\ptu5_tevai_vaikai\\venv\\lib\\site-packages\\sqlalchemy\\orm\\loading.py:379\u001b[0m, in \u001b[0;36mget_from_identity\u001b[1;34m(session, mapper, key, passive)\u001b[0m\n\u001b[0;32m    377\u001b[0m     \u001b[39mreturn\u001b[39;00m instance\n\u001b[0;32m    378\u001b[0m \u001b[39mtry\u001b[39;00m:\n\u001b[1;32m--> 379\u001b[0m     state\u001b[39m.\u001b[39;49m_load_expired(state, passive)\n\u001b[0;32m    380\u001b[0m \u001b[39mexcept\u001b[39;00m orm_exc\u001b[39m.\u001b[39mObjectDeletedError:\n\u001b[0;32m    381\u001b[0m     session\u001b[39m.\u001b[39m_remove_newly_deleted([state])\n",
      "File \u001b[1;32mc:\\Users\\jzymo\\Documents\\python_codeacademy\\ptu5_tevai_vaikai\\venv\\lib\\site-packages\\sqlalchemy\\orm\\state.py:712\u001b[0m, in \u001b[0;36mInstanceState._load_expired\u001b[1;34m(self, state, passive)\u001b[0m\n\u001b[0;32m    705\u001b[0m toload \u001b[39m=\u001b[39m \u001b[39mself\u001b[39m\u001b[39m.\u001b[39mexpired_attributes\u001b[39m.\u001b[39mintersection(\u001b[39mself\u001b[39m\u001b[39m.\u001b[39munmodified)\n\u001b[0;32m    706\u001b[0m toload \u001b[39m=\u001b[39m toload\u001b[39m.\u001b[39mdifference(\n\u001b[0;32m    707\u001b[0m     attr\n\u001b[0;32m    708\u001b[0m     \u001b[39mfor\u001b[39;00m attr \u001b[39min\u001b[39;00m toload\n\u001b[0;32m    709\u001b[0m     \u001b[39mif\u001b[39;00m \u001b[39mnot\u001b[39;00m \u001b[39mself\u001b[39m\u001b[39m.\u001b[39mmanager[attr]\u001b[39m.\u001b[39mimpl\u001b[39m.\u001b[39mload_on_unexpire\n\u001b[0;32m    710\u001b[0m )\n\u001b[1;32m--> 712\u001b[0m \u001b[39mself\u001b[39;49m\u001b[39m.\u001b[39;49mmanager\u001b[39m.\u001b[39;49mexpired_attribute_loader(\u001b[39mself\u001b[39;49m, toload, passive)\n\u001b[0;32m    714\u001b[0m \u001b[39m# if the loader failed, or this\u001b[39;00m\n\u001b[0;32m    715\u001b[0m \u001b[39m# instance state didn't have an identity,\u001b[39;00m\n\u001b[0;32m    716\u001b[0m \u001b[39m# the attributes still might be in the callables\u001b[39;00m\n\u001b[0;32m    717\u001b[0m \u001b[39m# dict.  ensure they are removed.\u001b[39;00m\n\u001b[0;32m    718\u001b[0m \u001b[39mself\u001b[39m\u001b[39m.\u001b[39mexpired_attributes\u001b[39m.\u001b[39mclear()\n",
      "File \u001b[1;32mc:\\Users\\jzymo\\Documents\\python_codeacademy\\ptu5_tevai_vaikai\\venv\\lib\\site-packages\\sqlalchemy\\orm\\loading.py:1451\u001b[0m, in \u001b[0;36mload_scalar_attributes\u001b[1;34m(mapper, state, attribute_names, passive)\u001b[0m\n\u001b[0;32m   1443\u001b[0m         util\u001b[39m.\u001b[39mwarn_limited(\n\u001b[0;32m   1444\u001b[0m             \u001b[39m\"\u001b[39m\u001b[39mInstance \u001b[39m\u001b[39m%s\u001b[39;00m\u001b[39m to be refreshed doesn\u001b[39m\u001b[39m'\u001b[39m\u001b[39mt \u001b[39m\u001b[39m\"\u001b[39m\n\u001b[0;32m   1445\u001b[0m             \u001b[39m\"\u001b[39m\u001b[39mcontain a full primary key - can\u001b[39m\u001b[39m'\u001b[39m\u001b[39mt be refreshed \u001b[39m\u001b[39m\"\u001b[39m\n\u001b[0;32m   1446\u001b[0m             \u001b[39m\"\u001b[39m\u001b[39m(and shouldn\u001b[39m\u001b[39m'\u001b[39m\u001b[39mt be expired, either).\u001b[39m\u001b[39m\"\u001b[39m,\n\u001b[0;32m   1447\u001b[0m             state_str(state),\n\u001b[0;32m   1448\u001b[0m         )\n\u001b[0;32m   1449\u001b[0m         \u001b[39mreturn\u001b[39;00m\n\u001b[1;32m-> 1451\u001b[0m     result \u001b[39m=\u001b[39m load_on_ident(\n\u001b[0;32m   1452\u001b[0m         session,\n\u001b[0;32m   1453\u001b[0m         future\u001b[39m.\u001b[39;49mselect(mapper)\u001b[39m.\u001b[39;49mset_label_style(\n\u001b[0;32m   1454\u001b[0m             LABEL_STYLE_TABLENAME_PLUS_COL\n\u001b[0;32m   1455\u001b[0m         ),\n\u001b[0;32m   1456\u001b[0m         identity_key,\n\u001b[0;32m   1457\u001b[0m         refresh_state\u001b[39m=\u001b[39;49mstate,\n\u001b[0;32m   1458\u001b[0m         only_load_props\u001b[39m=\u001b[39;49mattribute_names,\n\u001b[0;32m   1459\u001b[0m         no_autoflush\u001b[39m=\u001b[39;49mno_autoflush,\n\u001b[0;32m   1460\u001b[0m     )\n\u001b[0;32m   1462\u001b[0m \u001b[39m# if instance is pending, a refresh operation\u001b[39;00m\n\u001b[0;32m   1463\u001b[0m \u001b[39m# may not complete (even if PK attributes are assigned)\u001b[39;00m\n\u001b[0;32m   1464\u001b[0m \u001b[39mif\u001b[39;00m has_key \u001b[39mand\u001b[39;00m result \u001b[39mis\u001b[39;00m \u001b[39mNone\u001b[39;00m:\n",
      "File \u001b[1;32mc:\\Users\\jzymo\\Documents\\python_codeacademy\\ptu5_tevai_vaikai\\venv\\lib\\site-packages\\sqlalchemy\\orm\\loading.py:407\u001b[0m, in \u001b[0;36mload_on_ident\u001b[1;34m(session, statement, key, load_options, refresh_state, with_for_update, only_load_props, no_autoflush, bind_arguments, execution_options)\u001b[0m\n\u001b[0;32m    404\u001b[0m \u001b[39melse\u001b[39;00m:\n\u001b[0;32m    405\u001b[0m     ident \u001b[39m=\u001b[39m identity_token \u001b[39m=\u001b[39m \u001b[39mNone\u001b[39;00m\n\u001b[1;32m--> 407\u001b[0m \u001b[39mreturn\u001b[39;00m load_on_pk_identity(\n\u001b[0;32m    408\u001b[0m     session,\n\u001b[0;32m    409\u001b[0m     statement,\n\u001b[0;32m    410\u001b[0m     ident,\n\u001b[0;32m    411\u001b[0m     load_options\u001b[39m=\u001b[39;49mload_options,\n\u001b[0;32m    412\u001b[0m     refresh_state\u001b[39m=\u001b[39;49mrefresh_state,\n\u001b[0;32m    413\u001b[0m     with_for_update\u001b[39m=\u001b[39;49mwith_for_update,\n\u001b[0;32m    414\u001b[0m     only_load_props\u001b[39m=\u001b[39;49monly_load_props,\n\u001b[0;32m    415\u001b[0m     identity_token\u001b[39m=\u001b[39;49midentity_token,\n\u001b[0;32m    416\u001b[0m     no_autoflush\u001b[39m=\u001b[39;49mno_autoflush,\n\u001b[0;32m    417\u001b[0m     bind_arguments\u001b[39m=\u001b[39;49mbind_arguments,\n\u001b[0;32m    418\u001b[0m     execution_options\u001b[39m=\u001b[39;49mexecution_options,\n\u001b[0;32m    419\u001b[0m )\n",
      "File \u001b[1;32mc:\\Users\\jzymo\\Documents\\python_codeacademy\\ptu5_tevai_vaikai\\venv\\lib\\site-packages\\sqlalchemy\\orm\\loading.py:530\u001b[0m, in \u001b[0;36mload_on_pk_identity\u001b[1;34m(session, statement, primary_key_identity, load_options, refresh_state, with_for_update, only_load_props, identity_token, no_autoflush, bind_arguments, execution_options)\u001b[0m\n\u001b[0;32m    524\u001b[0m     load_options \u001b[39m+\u001b[39m\u001b[39m=\u001b[39m {\u001b[39m\"\u001b[39m\u001b[39m_autoflush\u001b[39m\u001b[39m\"\u001b[39m: \u001b[39mFalse\u001b[39;00m}\n\u001b[0;32m    526\u001b[0m execution_options \u001b[39m=\u001b[39m util\u001b[39m.\u001b[39mEMPTY_DICT\u001b[39m.\u001b[39mmerge_with(\n\u001b[0;32m    527\u001b[0m     execution_options, {\u001b[39m\"\u001b[39m\u001b[39m_sa_orm_load_options\u001b[39m\u001b[39m\"\u001b[39m: load_options}\n\u001b[0;32m    528\u001b[0m )\n\u001b[0;32m    529\u001b[0m result \u001b[39m=\u001b[39m (\n\u001b[1;32m--> 530\u001b[0m     session\u001b[39m.\u001b[39;49mexecute(\n\u001b[0;32m    531\u001b[0m         q,\n\u001b[0;32m    532\u001b[0m         params\u001b[39m=\u001b[39;49mparams,\n\u001b[0;32m    533\u001b[0m         execution_options\u001b[39m=\u001b[39;49mexecution_options,\n\u001b[0;32m    534\u001b[0m         bind_arguments\u001b[39m=\u001b[39;49mbind_arguments,\n\u001b[0;32m    535\u001b[0m     )\n\u001b[0;32m    536\u001b[0m     \u001b[39m.\u001b[39munique()\n\u001b[0;32m    537\u001b[0m     \u001b[39m.\u001b[39mscalars()\n\u001b[0;32m    538\u001b[0m )\n\u001b[0;32m    540\u001b[0m \u001b[39mtry\u001b[39;00m:\n\u001b[0;32m    541\u001b[0m     \u001b[39mreturn\u001b[39;00m result\u001b[39m.\u001b[39mone()\n",
      "File \u001b[1;32mc:\\Users\\jzymo\\Documents\\python_codeacademy\\ptu5_tevai_vaikai\\venv\\lib\\site-packages\\sqlalchemy\\orm\\session.py:1713\u001b[0m, in \u001b[0;36mSession.execute\u001b[1;34m(self, statement, params, execution_options, bind_arguments, _parent_execute_state, _add_event, **kw)\u001b[0m\n\u001b[0;32m   1709\u001b[0m     execution_options \u001b[39m=\u001b[39m execution_options\u001b[39m.\u001b[39munion(\n\u001b[0;32m   1710\u001b[0m         \u001b[39mdict\u001b[39m(future_result\u001b[39m=\u001b[39m\u001b[39mFalse\u001b[39;00m)\n\u001b[0;32m   1711\u001b[0m     )\n\u001b[0;32m   1712\u001b[0m \u001b[39melse\u001b[39;00m:\n\u001b[1;32m-> 1713\u001b[0m     conn \u001b[39m=\u001b[39m \u001b[39mself\u001b[39;49m\u001b[39m.\u001b[39;49m_connection_for_bind(bind)\n\u001b[0;32m   1714\u001b[0m result \u001b[39m=\u001b[39m conn\u001b[39m.\u001b[39m_execute_20(statement, params \u001b[39mor\u001b[39;00m {}, execution_options)\n\u001b[0;32m   1716\u001b[0m \u001b[39mif\u001b[39;00m compile_state_cls:\n",
      "File \u001b[1;32mc:\\Users\\jzymo\\Documents\\python_codeacademy\\ptu5_tevai_vaikai\\venv\\lib\\site-packages\\sqlalchemy\\orm\\session.py:1552\u001b[0m, in \u001b[0;36mSession._connection_for_bind\u001b[1;34m(self, engine, execution_options, **kw)\u001b[0m\n\u001b[0;32m   1549\u001b[0m TransactionalContext\u001b[39m.\u001b[39m_trans_ctx_check(\u001b[39mself\u001b[39m)\n\u001b[0;32m   1551\u001b[0m \u001b[39mif\u001b[39;00m \u001b[39mself\u001b[39m\u001b[39m.\u001b[39m_transaction \u001b[39mis\u001b[39;00m \u001b[39mnot\u001b[39;00m \u001b[39mNone\u001b[39;00m \u001b[39mor\u001b[39;00m \u001b[39mself\u001b[39m\u001b[39m.\u001b[39m_autobegin():\n\u001b[1;32m-> 1552\u001b[0m     \u001b[39mreturn\u001b[39;00m \u001b[39mself\u001b[39;49m\u001b[39m.\u001b[39;49m_transaction\u001b[39m.\u001b[39;49m_connection_for_bind(\n\u001b[0;32m   1553\u001b[0m         engine, execution_options\n\u001b[0;32m   1554\u001b[0m     )\n\u001b[0;32m   1556\u001b[0m \u001b[39massert\u001b[39;00m \u001b[39mself\u001b[39m\u001b[39m.\u001b[39m_transaction \u001b[39mis\u001b[39;00m \u001b[39mNone\u001b[39;00m\n\u001b[0;32m   1557\u001b[0m \u001b[39massert\u001b[39;00m \u001b[39mself\u001b[39m\u001b[39m.\u001b[39mautocommit\n",
      "File \u001b[1;32mc:\\Users\\jzymo\\Documents\\python_codeacademy\\ptu5_tevai_vaikai\\venv\\lib\\site-packages\\sqlalchemy\\orm\\session.py:721\u001b[0m, in \u001b[0;36mSessionTransaction._connection_for_bind\u001b[1;34m(self, bind, execution_options)\u001b[0m\n\u001b[0;32m    720\u001b[0m \u001b[39mdef\u001b[39;00m \u001b[39m_connection_for_bind\u001b[39m(\u001b[39mself\u001b[39m, bind, execution_options):\n\u001b[1;32m--> 721\u001b[0m     \u001b[39mself\u001b[39;49m\u001b[39m.\u001b[39;49m_assert_active()\n\u001b[0;32m    723\u001b[0m     \u001b[39mif\u001b[39;00m bind \u001b[39min\u001b[39;00m \u001b[39mself\u001b[39m\u001b[39m.\u001b[39m_connections:\n\u001b[0;32m    724\u001b[0m         \u001b[39mif\u001b[39;00m execution_options:\n",
      "File \u001b[1;32mc:\\Users\\jzymo\\Documents\\python_codeacademy\\ptu5_tevai_vaikai\\venv\\lib\\site-packages\\sqlalchemy\\orm\\session.py:601\u001b[0m, in \u001b[0;36mSessionTransaction._assert_active\u001b[1;34m(self, prepared_ok, rollback_ok, deactive_ok, closed_msg)\u001b[0m\n\u001b[0;32m    599\u001b[0m \u001b[39mif\u001b[39;00m \u001b[39mnot\u001b[39;00m deactive_ok \u001b[39mand\u001b[39;00m \u001b[39mnot\u001b[39;00m rollback_ok:\n\u001b[0;32m    600\u001b[0m     \u001b[39mif\u001b[39;00m \u001b[39mself\u001b[39m\u001b[39m.\u001b[39m_rollback_exception:\n\u001b[1;32m--> 601\u001b[0m         \u001b[39mraise\u001b[39;00m sa_exc\u001b[39m.\u001b[39mPendingRollbackError(\n\u001b[0;32m    602\u001b[0m             \u001b[39m\"\u001b[39m\u001b[39mThis Session\u001b[39m\u001b[39m'\u001b[39m\u001b[39ms transaction has been rolled back \u001b[39m\u001b[39m\"\u001b[39m\n\u001b[0;32m    603\u001b[0m             \u001b[39m\"\u001b[39m\u001b[39mdue to a previous exception during flush.\u001b[39m\u001b[39m\"\u001b[39m\n\u001b[0;32m    604\u001b[0m             \u001b[39m\"\u001b[39m\u001b[39m To begin a new transaction with this Session, \u001b[39m\u001b[39m\"\u001b[39m\n\u001b[0;32m    605\u001b[0m             \u001b[39m\"\u001b[39m\u001b[39mfirst issue Session.rollback().\u001b[39m\u001b[39m\"\u001b[39m\n\u001b[0;32m    606\u001b[0m             \u001b[39m\"\u001b[39m\u001b[39m Original exception was: \u001b[39m\u001b[39m%s\u001b[39;00m\u001b[39m\"\u001b[39m\n\u001b[0;32m    607\u001b[0m             \u001b[39m%\u001b[39m \u001b[39mself\u001b[39m\u001b[39m.\u001b[39m_rollback_exception,\n\u001b[0;32m    608\u001b[0m             code\u001b[39m=\u001b[39m\u001b[39m\"\u001b[39m\u001b[39m7s2a\u001b[39m\u001b[39m\"\u001b[39m,\n\u001b[0;32m    609\u001b[0m         )\n\u001b[0;32m    610\u001b[0m     \u001b[39melif\u001b[39;00m \u001b[39mnot\u001b[39;00m deactive_ok:\n\u001b[0;32m    611\u001b[0m         \u001b[39mraise\u001b[39;00m sa_exc\u001b[39m.\u001b[39mInvalidRequestError(\n\u001b[0;32m    612\u001b[0m             \u001b[39m\"\u001b[39m\u001b[39mThis session is in \u001b[39m\u001b[39m'\u001b[39m\u001b[39minactive\u001b[39m\u001b[39m'\u001b[39m\u001b[39m state, due to the \u001b[39m\u001b[39m\"\u001b[39m\n\u001b[0;32m    613\u001b[0m             \u001b[39m\"\u001b[39m\u001b[39mSQL transaction being rolled back; no further \u001b[39m\u001b[39m\"\u001b[39m\n\u001b[0;32m    614\u001b[0m             \u001b[39m\"\u001b[39m\u001b[39mSQL can be emitted within this transaction.\u001b[39m\u001b[39m\"\u001b[39m\n\u001b[0;32m    615\u001b[0m         )\n",
      "\u001b[1;31mPendingRollbackError\u001b[0m: This Session's transaction has been rolled back due to a previous exception during flush. To begin a new transaction with this Session, first issue Session.rollback(). Original exception was: (sqlite3.OperationalError) database is locked\n[SQL: UPDATE tevas SET vardas=? WHERE tevas.id = ?]\n[parameters: ('Rimtesnis', 7)]\n(Background on this error at: https://sqlalche.me/e/14/e3q8) (Background on this error at: https://sqlalche.me/e/14/7s2a)"
     ]
    }
   ],
   "source": [
    "rimtesnis = update_object(Tevas, 7, vardas=\"Rimtesnis\")\n",
    "rimtesnis"
   ]
  }
 ],
 "metadata": {
  "kernelspec": {
   "display_name": "Python 3.10.7 ('venv': venv)",
   "language": "python",
   "name": "python3"
  },
  "language_info": {
   "codemirror_mode": {
    "name": "ipython",
    "version": 3
   },
   "file_extension": ".py",
   "mimetype": "text/x-python",
   "name": "python",
   "nbconvert_exporter": "python",
   "pygments_lexer": "ipython3",
   "version": "3.10.7"
  },
  "orig_nbformat": 4,
  "vscode": {
   "interpreter": {
    "hash": "28ae4fd3117835bd2bd5c372c68797032bf1020df96b4749ffece5c36330bdc1"
   }
  }
 },
 "nbformat": 4,
 "nbformat_minor": 2
}
